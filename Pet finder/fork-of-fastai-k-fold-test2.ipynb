{
 "cells": [
  {
   "cell_type": "markdown",
   "id": "24caffce",
   "metadata": {
    "papermill": {
     "duration": 0.032437,
     "end_time": "2021-12-29T02:16:31.191723",
     "exception": false,
     "start_time": "2021-12-29T02:16:31.159286",
     "status": "completed"
    },
    "tags": []
   },
   "source": [
    "**It's based on tanlikesmath's starter notebook at https://www.kaggle.com/tanlikesmath/petfinder-pawpularity-eda-fastai-starter. My teammate Stefano did the most work.**\n",
    "\n",
    "# Petfinder.my - Pawpularity Contest: Simple EDA and fastai starter\n",
    "\n",
    "In this competition, we will use machine learning to predict the \"pawpularity\" of a pet using images and metadata. If successful, solutions will be adapted into AI tools that will guide shelters and rescuers around the world to improve the appeal of their pet profiles, automatically enhancing photo quality and recommending composition improvements. As a result, stray dogs and cats can find families much faster, and these tools will help improve animal welfare.\n",
    "\n",
    "In this notebook, I will present a quick 'n dirty EDA and a (image-only, for now) fastai starter. \n",
    "\n",
    "**As of 10/26, it's currently the best-scoring notebook for the competition, beating 10-fold ensemble models that are bigger while only using a single and smaller model.**\n",
    "\n",
    "V1: Change get_data(fold) to correct K-Fold, use is_valid for validation data"
   ]
  },
  {
   "cell_type": "markdown",
   "id": "2fc54dec",
   "metadata": {
    "papermill": {
     "duration": 0.030568,
     "end_time": "2021-12-29T02:16:31.255482",
     "exception": false,
     "start_time": "2021-12-29T02:16:31.224914",
     "status": "completed"
    },
    "tags": []
   },
   "source": [
    "## A look at the data\n",
    "Let's start out by setting up our environment by importing the required modules and setting a random seed:"
   ]
  },
  {
   "cell_type": "code",
   "execution_count": 1,
   "id": "a9dc072d",
   "metadata": {
    "execution": {
     "iopub.execute_input": "2021-12-29T02:16:31.327491Z",
     "iopub.status.busy": "2021-12-29T02:16:31.326708Z",
     "iopub.status.idle": "2021-12-29T02:16:39.095831Z",
     "shell.execute_reply": "2021-12-29T02:16:39.095216Z",
     "shell.execute_reply.started": "2021-11-10T07:34:52.568905Z"
    },
    "papermill": {
     "duration": 7.809878,
     "end_time": "2021-12-29T02:16:39.096000",
     "exception": false,
     "start_time": "2021-12-29T02:16:31.286122",
     "status": "completed"
    },
    "tags": []
   },
   "outputs": [],
   "source": [
    "import sys\n",
    "sys.path.append('../input/timm-pytorch-image-models/pytorch-image-models-master')\n",
    "from timm import create_model\n",
    "from fastai.vision.all import *"
   ]
  },
  {
   "cell_type": "code",
   "execution_count": 2,
   "id": "58b27fb8",
   "metadata": {
    "execution": {
     "iopub.execute_input": "2021-12-29T02:16:39.162788Z",
     "iopub.status.busy": "2021-12-29T02:16:39.161897Z",
     "iopub.status.idle": "2021-12-29T02:16:39.164577Z",
     "shell.execute_reply": "2021-12-29T02:16:39.164099Z",
     "shell.execute_reply.started": "2021-11-10T07:35:14.04022Z"
    },
    "papermill": {
     "duration": 0.037771,
     "end_time": "2021-12-29T02:16:39.164698",
     "exception": false,
     "start_time": "2021-12-29T02:16:39.126927",
     "status": "completed"
    },
    "tags": []
   },
   "outputs": [],
   "source": [
    "set_seed(999, reproducible=True)\n",
    "BATCH_SIZE = 32"
   ]
  },
  {
   "cell_type": "markdown",
   "id": "387f1e6f",
   "metadata": {
    "papermill": {
     "duration": 0.030886,
     "end_time": "2021-12-29T02:16:39.226349",
     "exception": false,
     "start_time": "2021-12-29T02:16:39.195463",
     "status": "completed"
    },
    "tags": []
   },
   "source": [
    "Let's check what data is available to us:"
   ]
  },
  {
   "cell_type": "code",
   "execution_count": 3,
   "id": "b765e57f",
   "metadata": {
    "execution": {
     "iopub.execute_input": "2021-12-29T02:16:39.340674Z",
     "iopub.status.busy": "2021-12-29T02:16:39.339850Z",
     "iopub.status.idle": "2021-12-29T02:16:39.341923Z",
     "shell.execute_reply": "2021-12-29T02:16:39.342322Z",
     "shell.execute_reply.started": "2021-11-10T07:35:22.390101Z"
    },
    "papermill": {
     "duration": 0.037391,
     "end_time": "2021-12-29T02:16:39.342453",
     "exception": false,
     "start_time": "2021-12-29T02:16:39.305062",
     "status": "completed"
    },
    "tags": []
   },
   "outputs": [],
   "source": [
    "dataset_path = Path('../input/petfinder-pawpularity-score/')\n",
    "# dataset_path.ls()"
   ]
  },
  {
   "cell_type": "markdown",
   "id": "b617cc38",
   "metadata": {
    "papermill": {
     "duration": 0.030314,
     "end_time": "2021-12-29T02:16:39.403348",
     "exception": false,
     "start_time": "2021-12-29T02:16:39.373034",
     "status": "completed"
    },
    "tags": []
   },
   "source": [
    "We can see that we have our train csv file with the train image names, metadata and labels, the test csv file with test image names and metadata, the sample submission csv with the test image names, and the train and test image folders.\n",
    "\n",
    "Let's check the train csv file:"
   ]
  },
  {
   "cell_type": "code",
   "execution_count": 4,
   "id": "c2851fc8",
   "metadata": {
    "execution": {
     "iopub.execute_input": "2021-12-29T02:16:39.470221Z",
     "iopub.status.busy": "2021-12-29T02:16:39.469613Z",
     "iopub.status.idle": "2021-12-29T02:16:39.502373Z",
     "shell.execute_reply": "2021-12-29T02:16:39.501909Z",
     "shell.execute_reply.started": "2021-11-10T07:35:34.89926Z"
    },
    "papermill": {
     "duration": 0.068286,
     "end_time": "2021-12-29T02:16:39.502490",
     "exception": false,
     "start_time": "2021-12-29T02:16:39.434204",
     "status": "completed"
    },
    "tags": []
   },
   "outputs": [],
   "source": [
    "train_df = pd.read_csv(dataset_path/'train.csv')\n",
    "# train_df.head()"
   ]
  },
  {
   "cell_type": "markdown",
   "id": "1ef52d1e",
   "metadata": {
    "papermill": {
     "duration": 0.03042,
     "end_time": "2021-12-29T02:16:39.564425",
     "exception": false,
     "start_time": "2021-12-29T02:16:39.534005",
     "status": "completed"
    },
    "tags": []
   },
   "source": [
    "The metadata provided includes information about key visual quality and composition parameters of the photos. The Pawpularity Score is derived from the profile's page view statistics. This is the target we are aiming to predict."
   ]
  },
  {
   "cell_type": "markdown",
   "id": "7900d760",
   "metadata": {
    "papermill": {
     "duration": 0.030471,
     "end_time": "2021-12-29T02:16:39.625623",
     "exception": false,
     "start_time": "2021-12-29T02:16:39.595152",
     "status": "completed"
    },
    "tags": []
   },
   "source": [
    "Let's do some quick processing of the image filenames to make it easier to access:"
   ]
  },
  {
   "cell_type": "code",
   "execution_count": 5,
   "id": "6685cbac",
   "metadata": {
    "execution": {
     "iopub.execute_input": "2021-12-29T02:16:39.697828Z",
     "iopub.status.busy": "2021-12-29T02:16:39.696193Z",
     "iopub.status.idle": "2021-12-29T02:16:39.830856Z",
     "shell.execute_reply": "2021-12-29T02:16:39.830331Z",
     "shell.execute_reply.started": "2021-11-10T07:35:40.456907Z"
    },
    "papermill": {
     "duration": 0.174329,
     "end_time": "2021-12-29T02:16:39.831000",
     "exception": false,
     "start_time": "2021-12-29T02:16:39.656671",
     "status": "completed"
    },
    "tags": []
   },
   "outputs": [],
   "source": [
    "train_df['path'] = train_df['Id'].map(lambda x:str(dataset_path/'train'/x)+'.jpg')\n",
    "train_df = train_df.drop(columns=['Id'])\n",
    "train_df = train_df.sample(frac=1).reset_index(drop=True) #shuffle dataframe\n",
    "# train_df.head()"
   ]
  },
  {
   "cell_type": "markdown",
   "id": "4e82b6ea",
   "metadata": {
    "papermill": {
     "duration": 0.030714,
     "end_time": "2021-12-29T02:16:39.893038",
     "exception": false,
     "start_time": "2021-12-29T02:16:39.862324",
     "status": "completed"
    },
    "tags": []
   },
   "source": [
    "Note that the Pawpularity score is an integer, so in addition to being a regression problem, it could also be treated as a 100-class classification problem. Alternatively, it can be treated as a binary classification problem if the Pawpularity Score is normalized between 0 and 1:"
   ]
  },
  {
   "cell_type": "code",
   "execution_count": 6,
   "id": "480dad6f",
   "metadata": {
    "execution": {
     "iopub.execute_input": "2021-12-29T02:16:39.959405Z",
     "iopub.status.busy": "2021-12-29T02:16:39.958540Z",
     "iopub.status.idle": "2021-12-29T02:16:39.963231Z",
     "shell.execute_reply": "2021-12-29T02:16:39.962823Z",
     "shell.execute_reply.started": "2021-11-10T07:35:56.230799Z"
    },
    "papermill": {
     "duration": 0.039305,
     "end_time": "2021-12-29T02:16:39.963355",
     "exception": false,
     "start_time": "2021-12-29T02:16:39.924050",
     "status": "completed"
    },
    "tags": []
   },
   "outputs": [],
   "source": [
    "train_df['norm_score'] = train_df['Pawpularity']/100"
   ]
  },
  {
   "cell_type": "markdown",
   "id": "4fd0d546",
   "metadata": {
    "papermill": {
     "duration": 0.031732,
     "end_time": "2021-12-29T02:16:40.025976",
     "exception": false,
     "start_time": "2021-12-29T02:16:39.994244",
     "status": "completed"
    },
    "tags": []
   },
   "source": [
    "## Data loading\n",
    "After my quick 'n dirty EDA, let's load the data into fastai as DataLoaders objects. We're using the normalized score as the label. I use some fairly basic augmentations here."
   ]
  },
  {
   "cell_type": "code",
   "execution_count": 7,
   "id": "4fa05c7d",
   "metadata": {
    "execution": {
     "iopub.execute_input": "2021-12-29T02:16:40.093361Z",
     "iopub.status.busy": "2021-12-29T02:16:40.092549Z",
     "iopub.status.idle": "2021-12-29T02:16:49.625104Z",
     "shell.execute_reply": "2021-12-29T02:16:49.624359Z",
     "shell.execute_reply.started": "2021-11-10T07:36:07.055367Z"
    },
    "papermill": {
     "duration": 9.568517,
     "end_time": "2021-12-29T02:16:49.625247",
     "exception": false,
     "start_time": "2021-12-29T02:16:40.056730",
     "status": "completed"
    },
    "tags": []
   },
   "outputs": [],
   "source": [
    "if not os.path.exists('/root/.cache/torch/hub/checkpoints/'):\n",
    "    os.makedirs('/root/.cache/torch/hub/checkpoints/')\n",
    "!cp '../input/swin-transformer/swin_large_patch4_window7_224_22kto1k.pth' '/root/.cache/torch/hub/checkpoints/swin_large_patch4_window7_224_22kto1k.pth'\n"
   ]
  },
  {
   "cell_type": "code",
   "execution_count": 8,
   "id": "d886df7b",
   "metadata": {
    "execution": {
     "iopub.execute_input": "2021-12-29T02:16:49.694145Z",
     "iopub.status.busy": "2021-12-29T02:16:49.693302Z",
     "iopub.status.idle": "2021-12-29T02:16:49.695758Z",
     "shell.execute_reply": "2021-12-29T02:16:49.695318Z",
     "shell.execute_reply.started": "2021-11-10T07:36:30.560178Z"
    },
    "papermill": {
     "duration": 0.039336,
     "end_time": "2021-12-29T02:16:49.695886",
     "exception": false,
     "start_time": "2021-12-29T02:16:49.656550",
     "status": "completed"
    },
    "tags": []
   },
   "outputs": [],
   "source": [
    "seed=999\n",
    "set_seed(seed, reproducible=True)\n",
    "torch.manual_seed(seed)\n",
    "torch.cuda.manual_seed(seed)\n",
    "torch.backends.cudnn.deterministic = True\n",
    "torch.use_deterministic_algorithms = True"
   ]
  },
  {
   "cell_type": "code",
   "execution_count": 9,
   "id": "8ddc50c4",
   "metadata": {
    "execution": {
     "iopub.execute_input": "2021-12-29T02:16:49.760591Z",
     "iopub.status.busy": "2021-12-29T02:16:49.759751Z",
     "iopub.status.idle": "2021-12-29T02:16:49.764185Z",
     "shell.execute_reply": "2021-12-29T02:16:49.763759Z",
     "shell.execute_reply.started": "2021-11-10T07:36:33.487894Z"
    },
    "papermill": {
     "duration": 0.037708,
     "end_time": "2021-12-29T02:16:49.764297",
     "exception": false,
     "start_time": "2021-12-29T02:16:49.726589",
     "status": "completed"
    },
    "tags": []
   },
   "outputs": [],
   "source": [
    "#Sturges' rule\n",
    "num_bins = int(np.floor(1+np.log2(len(train_df))))\n",
    "# num_bins"
   ]
  },
  {
   "cell_type": "code",
   "execution_count": 10,
   "id": "c4e27578",
   "metadata": {
    "execution": {
     "iopub.execute_input": "2021-12-29T02:16:49.834043Z",
     "iopub.status.busy": "2021-12-29T02:16:49.833174Z",
     "iopub.status.idle": "2021-12-29T02:16:50.089714Z",
     "shell.execute_reply": "2021-12-29T02:16:50.089257Z",
     "shell.execute_reply.started": "2021-11-10T07:36:45.250042Z"
    },
    "papermill": {
     "duration": 0.294184,
     "end_time": "2021-12-29T02:16:50.089843",
     "exception": false,
     "start_time": "2021-12-29T02:16:49.795659",
     "status": "completed"
    },
    "tags": []
   },
   "outputs": [
    {
     "data": {
      "text/plain": [
       "<AxesSubplot:>"
      ]
     },
     "execution_count": 10,
     "metadata": {},
     "output_type": "execute_result"
    },
    {
     "data": {
      "image/png": "[encoded data removed]",
      "text/plain": [
       "<Figure size 432x288 with 1 Axes>"
      ]
     },
     "metadata": {
      "needs_background": "light"
     },
     "output_type": "display_data"
    }
   ],
   "source": [
    "train_df['bins'] = pd.cut(train_df['norm_score'], bins=num_bins, labels=False)\n",
    "train_df['bins'].hist()"
   ]
  },
  {
   "cell_type": "code",
   "execution_count": 11,
   "id": "ebca4b00",
   "metadata": {
    "execution": {
     "iopub.execute_input": "2021-12-29T02:16:50.161941Z",
     "iopub.status.busy": "2021-12-29T02:16:50.161345Z",
     "iopub.status.idle": "2021-12-29T02:16:50.175141Z",
     "shell.execute_reply": "2021-12-29T02:16:50.175582Z",
     "shell.execute_reply.started": "2021-11-10T07:37:23.118579Z"
    },
    "papermill": {
     "duration": 0.053906,
     "end_time": "2021-12-29T02:16:50.175727",
     "exception": false,
     "start_time": "2021-12-29T02:16:50.121821",
     "status": "completed"
    },
    "tags": []
   },
   "outputs": [
    {
     "data": {
      "text/plain": [
       "1    1983\n",
       "0    1983\n",
       "3    1982\n",
       "2    1982\n",
       "4    1982\n",
       "Name: fold, dtype: int64"
      ]
     },
     "execution_count": 11,
     "metadata": {},
     "output_type": "execute_result"
    }
   ],
   "source": [
    "from sklearn.model_selection import KFold\n",
    "from sklearn.model_selection import StratifiedKFold\n",
    "\n",
    "train_df['fold'] = -1\n",
    "\n",
    "\n",
    "N_FOLDS = 5\n",
    "strat_kfold = StratifiedKFold(n_splits=N_FOLDS, random_state=seed, shuffle=True)\n",
    "for i, (_, train_index) in enumerate(strat_kfold.split(train_df.index, train_df['bins'])):\n",
    "    train_df.iloc[train_index, -1] = i\n",
    "    \n",
    "train_df['fold'] = train_df['fold'].astype('int')\n",
    "\n",
    "train_df.fold.value_counts()\n",
    "# train_df.fold.value_counts().plot.bar()"
   ]
  },
  {
   "cell_type": "code",
   "execution_count": 12,
   "id": "df68fa08",
   "metadata": {
    "execution": {
     "iopub.execute_input": "2021-12-29T02:16:50.245278Z",
     "iopub.status.busy": "2021-12-29T02:16:50.244417Z",
     "iopub.status.idle": "2021-12-29T02:16:50.246382Z",
     "shell.execute_reply": "2021-12-29T02:16:50.246804Z",
     "shell.execute_reply.started": "2021-11-10T07:37:30.675489Z"
    },
    "papermill": {
     "duration": 0.038024,
     "end_time": "2021-12-29T02:16:50.246949",
     "exception": false,
     "start_time": "2021-12-29T02:16:50.208925",
     "status": "completed"
    },
    "tags": []
   },
   "outputs": [],
   "source": [
    "# train_df[train_df['fold']==0].head()"
   ]
  },
  {
   "cell_type": "code",
   "execution_count": 13,
   "id": "63e0db40",
   "metadata": {
    "execution": {
     "iopub.execute_input": "2021-12-29T02:16:50.315739Z",
     "iopub.status.busy": "2021-12-29T02:16:50.314694Z",
     "iopub.status.idle": "2021-12-29T02:16:50.316466Z",
     "shell.execute_reply": "2021-12-29T02:16:50.317082Z",
     "shell.execute_reply.started": "2021-11-10T07:37:35.744574Z"
    },
    "papermill": {
     "duration": 0.038325,
     "end_time": "2021-12-29T02:16:50.317232",
     "exception": false,
     "start_time": "2021-12-29T02:16:50.278907",
     "status": "completed"
    },
    "tags": []
   },
   "outputs": [],
   "source": [
    "# train_df[train_df['fold']==0]['bins'].value_counts()"
   ]
  },
  {
   "cell_type": "code",
   "execution_count": 14,
   "id": "54e04b75",
   "metadata": {
    "execution": {
     "iopub.execute_input": "2021-12-29T02:16:50.385797Z",
     "iopub.status.busy": "2021-12-29T02:16:50.384905Z",
     "iopub.status.idle": "2021-12-29T02:16:50.387065Z",
     "shell.execute_reply": "2021-12-29T02:16:50.387461Z",
     "shell.execute_reply.started": "2021-11-10T07:37:56.078263Z"
    },
    "papermill": {
     "duration": 0.03825,
     "end_time": "2021-12-29T02:16:50.387623",
     "exception": false,
     "start_time": "2021-12-29T02:16:50.349373",
     "status": "completed"
    },
    "tags": []
   },
   "outputs": [],
   "source": [
    "# train_df[train_df['fold']==1]['bins'].value_counts()"
   ]
  },
  {
   "cell_type": "code",
   "execution_count": 15,
   "id": "3d14df76",
   "metadata": {
    "execution": {
     "iopub.execute_input": "2021-12-29T02:16:50.456942Z",
     "iopub.status.busy": "2021-12-29T02:16:50.456087Z",
     "iopub.status.idle": "2021-12-29T02:16:50.457898Z",
     "shell.execute_reply": "2021-12-29T02:16:50.458372Z",
     "shell.execute_reply.started": "2021-11-10T07:38:00.959445Z"
    },
    "papermill": {
     "duration": 0.038949,
     "end_time": "2021-12-29T02:16:50.458502",
     "exception": false,
     "start_time": "2021-12-29T02:16:50.419553",
     "status": "completed"
    },
    "tags": []
   },
   "outputs": [],
   "source": [
    "def petfinder_rmse(input,target):\n",
    "    return 100*torch.sqrt(F.mse_loss(F.sigmoid(input.flatten()), target))"
   ]
  },
  {
   "cell_type": "code",
   "execution_count": 16,
   "id": "e6025ce6",
   "metadata": {
    "execution": {
     "iopub.execute_input": "2021-12-29T02:16:50.530067Z",
     "iopub.status.busy": "2021-12-29T02:16:50.529192Z",
     "iopub.status.idle": "2021-12-29T02:16:50.530999Z",
     "shell.execute_reply": "2021-12-29T02:16:50.531486Z",
     "shell.execute_reply.started": "2021-11-10T07:52:57.393289Z"
    },
    "papermill": {
     "duration": 0.041447,
     "end_time": "2021-12-29T02:16:50.531634",
     "exception": false,
     "start_time": "2021-12-29T02:16:50.490187",
     "status": "completed"
    },
    "tags": []
   },
   "outputs": [],
   "source": [
    "def get_data(fold):\n",
    "#     train_df_no_val = train_df.query(f'fold != {fold}')\n",
    "#     train_df_val = train_df.query(f'fold == {fold}')\n",
    "    \n",
    "#     train_df_bal = pd.concat([train_df_no_val,train_df_val.sample(frac=1).reset_index(drop=True)])\n",
    "    train_df_f = train_df.copy()\n",
    "    # add is_valid for validation fold\n",
    "    train_df_f['is_valid'] = (train_df_f['fold'] == fold)\n",
    "    \n",
    "    dls = ImageDataLoaders.from_df(train_df_f, #pass in train DataFrame\n",
    "#                                valid_pct=0.2, #80-20 train-validation random split\n",
    "                               valid_col='is_valid', #\n",
    "                               seed=999, #seed\n",
    "                               fn_col='path', #filename/path is in the second column of the DataFrame\n",
    "                               label_col='norm_score', #label is in the first column of the DataFrame\n",
    "                               y_block=RegressionBlock, #The type of target\n",
    "                               bs=BATCH_SIZE, #pass in batch size\n",
    "                               num_workers=8,\n",
    "                               item_tfms=Resize(224), #pass in item_tfms\n",
    "                               batch_tfms=setup_aug_tfms([DeterministicFlip(),\n",
    "#                                                           Brightness(),Contrast(),Hue(),Saturation(),\n",
    "                                                          RandomErasing(p=.5, max_count=5, min_aspect=0.5, sl=0.0, sh=0.3)\n",
    "#                                                           RandomResizedCrop(224, min_scale=0.1, max_scale=0.8, ratio=(0.75, 1.3333))\n",
    "                                                         ])) #pass in batch_tfms\n",
    "    \n",
    "    return dls\n"
   ]
  },
  {
   "cell_type": "code",
   "execution_count": 17,
   "id": "ad644344",
   "metadata": {
    "execution": {
     "iopub.execute_input": "2021-12-29T02:16:50.600168Z",
     "iopub.status.busy": "2021-12-29T02:16:50.599260Z",
     "iopub.status.idle": "2021-12-29T02:16:56.758649Z",
     "shell.execute_reply": "2021-12-29T02:16:56.759076Z",
     "shell.execute_reply.started": "2021-11-10T07:53:02.000233Z"
    },
    "papermill": {
     "duration": 6.196022,
     "end_time": "2021-12-29T02:16:56.759237",
     "exception": false,
     "start_time": "2021-12-29T02:16:50.563215",
     "status": "completed"
    },
    "tags": []
   },
   "outputs": [],
   "source": [
    "#Valid Kfolder size\n",
    "the_data = get_data(0)\n",
    "assert (len(the_data.train) + len(the_data.valid)) == (len(train_df)//BATCH_SIZE)"
   ]
  },
  {
   "cell_type": "code",
   "execution_count": 18,
   "id": "eb8e768b",
   "metadata": {
    "execution": {
     "iopub.execute_input": "2021-12-29T02:16:56.829779Z",
     "iopub.status.busy": "2021-12-29T02:16:56.828879Z",
     "iopub.status.idle": "2021-12-29T02:16:56.830710Z",
     "shell.execute_reply": "2021-12-29T02:16:56.831144Z",
     "shell.execute_reply.started": "2021-11-10T07:53:05.734146Z"
    },
    "papermill": {
     "duration": 0.039616,
     "end_time": "2021-12-29T02:16:56.831273",
     "exception": false,
     "start_time": "2021-12-29T02:16:56.791657",
     "status": "completed"
    },
    "tags": []
   },
   "outputs": [],
   "source": [
    "def get_learner(fold_num):\n",
    "    data = get_data(fold_num)\n",
    "    \n",
    "    model = create_model('swin_large_patch4_window7_224', pretrained=True, num_classes=data.c)\n",
    "\n",
    "    learn = Learner(data, model, loss_func=BCEWithLogitsLossFlat(), metrics=petfinder_rmse).to_fp16()\n",
    "    \n",
    "    return learn"
   ]
  },
  {
   "cell_type": "code",
   "execution_count": 19,
   "id": "74411845",
   "metadata": {
    "execution": {
     "iopub.execute_input": "2021-12-29T02:16:56.901000Z",
     "iopub.status.busy": "2021-12-29T02:16:56.900431Z",
     "iopub.status.idle": "2021-12-29T02:16:56.911260Z",
     "shell.execute_reply": "2021-12-29T02:16:56.910839Z",
     "shell.execute_reply.started": "2021-11-10T07:53:07.833912Z"
    },
    "papermill": {
     "duration": 0.047516,
     "end_time": "2021-12-29T02:16:56.911374",
     "exception": false,
     "start_time": "2021-12-29T02:16:56.863858",
     "status": "completed"
    },
    "tags": []
   },
   "outputs": [],
   "source": [
    "test_df = pd.read_csv(dataset_path/'test.csv')"
   ]
  },
  {
   "cell_type": "code",
   "execution_count": 20,
   "id": "e043e7ff",
   "metadata": {
    "execution": {
     "iopub.execute_input": "2021-12-29T02:16:56.985593Z",
     "iopub.status.busy": "2021-12-29T02:16:56.984803Z",
     "iopub.status.idle": "2021-12-29T02:16:56.988651Z",
     "shell.execute_reply": "2021-12-29T02:16:56.988173Z",
     "shell.execute_reply.started": "2021-11-10T07:53:09.57346Z"
    },
    "papermill": {
     "duration": 0.045035,
     "end_time": "2021-12-29T02:16:56.988820",
     "exception": false,
     "start_time": "2021-12-29T02:16:56.943785",
     "status": "completed"
    },
    "tags": []
   },
   "outputs": [],
   "source": [
    "test_df['Pawpularity'] = [1]*len(test_df)\n",
    "test_df['path'] = test_df['Id'].map(lambda x:str(dataset_path/'test'/x)+'.jpg')\n",
    "test_df = test_df.drop(columns=['Id'])\n",
    "# train_df['norm_score'] = train_df['Pawpularity']/100"
   ]
  },
  {
   "cell_type": "code",
   "execution_count": 21,
   "id": "ebdb8d2c",
   "metadata": {
    "execution": {
     "iopub.execute_input": "2021-12-29T02:16:57.061629Z",
     "iopub.status.busy": "2021-12-29T02:16:57.060822Z",
     "iopub.status.idle": "2021-12-29T02:19:37.666965Z",
     "shell.execute_reply": "2021-12-29T02:19:37.667380Z",
     "shell.execute_reply.started": "2021-11-10T07:53:12.070552Z"
    },
    "papermill": {
     "duration": 160.646594,
     "end_time": "2021-12-29T02:19:37.667555",
     "exception": false,
     "start_time": "2021-12-29T02:16:57.020961",
     "status": "completed"
    },
    "tags": []
   },
   "outputs": [
    {
     "data": {
      "text/html": [],
      "text/plain": [
       "<IPython.core.display.HTML object>"
      ]
     },
     "metadata": {},
     "output_type": "display_data"
    },
    {
     "name": "stderr",
     "output_type": "stream",
     "text": [
      "/opt/conda/lib/python3.7/site-packages/fastai/callback/schedule.py:269: UserWarning: color is redundantly defined by the 'color' keyword argument and the fmt string \"ro\" (-> color='r'). The keyword argument will take precedence.\n",
      "  ax.plot(val, idx, 'ro', label=nm, c=color)\n"
     ]
    },
    {
     "data": {
      "text/plain": [
       "SuggestedLRs(valley=9.070797386812046e-05)"
      ]
     },
     "execution_count": 21,
     "metadata": {},
     "output_type": "execute_result"
    },
    {
     "data": {
      "image/png": "[encoded data removed]",
      "text/plain": [
       "<Figure size 432x288 with 1 Axes>"
      ]
     },
     "metadata": {
      "needs_background": "light"
     },
     "output_type": "display_data"
    }
   ],
   "source": [
    "get_learner(fold_num=0).lr_find(end_lr=3e-2)"
   ]
  },
  {
   "cell_type": "code",
   "execution_count": 22,
   "id": "5cc3d705",
   "metadata": {
    "execution": {
     "iopub.execute_input": "2021-12-29T02:19:37.740040Z",
     "iopub.status.busy": "2021-12-29T02:19:37.739424Z",
     "iopub.status.idle": "2021-12-29T02:19:37.742551Z",
     "shell.execute_reply": "2021-12-29T02:19:37.742102Z",
     "shell.execute_reply.started": "2021-11-10T07:56:50.212318Z"
    },
    "papermill": {
     "duration": 0.041431,
     "end_time": "2021-12-29T02:19:37.742674",
     "exception": false,
     "start_time": "2021-12-29T02:19:37.701243",
     "status": "completed"
    },
    "tags": []
   },
   "outputs": [],
   "source": [
    "import gc"
   ]
  },
  {
   "cell_type": "code",
   "execution_count": 23,
   "id": "2d9c944f",
   "metadata": {
    "execution": {
     "iopub.execute_input": "2021-12-29T02:19:37.821372Z",
     "iopub.status.busy": "2021-12-29T02:19:37.820538Z",
     "iopub.status.idle": "2021-12-29T05:06:02.031203Z",
     "shell.execute_reply": "2021-12-29T05:06:02.031658Z",
     "shell.execute_reply.started": "2021-11-10T07:56:52.919357Z"
    },
    "papermill": {
     "duration": 9984.254708,
     "end_time": "2021-12-29T05:06:02.031827",
     "exception": false,
     "start_time": "2021-12-29T02:19:37.777119",
     "status": "completed"
    },
    "tags": []
   },
   "outputs": [
    {
     "name": "stdout",
     "output_type": "stream",
     "text": [
      "Fold 0 results\n"
     ]
    },
    {
     "data": {
      "text/html": [
       "<table border=\"1\" class=\"dataframe\">\n",
       "  <thead>\n",
       "    <tr style=\"text-align: left;\">\n",
       "      <th>epoch</th>\n",
       "      <th>train_loss</th>\n",
       "      <th>valid_loss</th>\n",
       "      <th>petfinder_rmse</th>\n",
       "      <th>time</th>\n",
       "    </tr>\n",
       "  </thead>\n",
       "  <tbody>\n",
       "    <tr>\n",
       "      <td>0</td>\n",
       "      <td>0.656056</td>\n",
       "      <td>0.644947</td>\n",
       "      <td>18.002098</td>\n",
       "      <td>06:33</td>\n",
       "    </tr>\n",
       "    <tr>\n",
       "      <td>1</td>\n",
       "      <td>0.648756</td>\n",
       "      <td>0.640414</td>\n",
       "      <td>17.389685</td>\n",
       "      <td>06:32</td>\n",
       "    </tr>\n",
       "    <tr>\n",
       "      <td>2</td>\n",
       "      <td>0.645829</td>\n",
       "      <td>0.641401</td>\n",
       "      <td>17.584831</td>\n",
       "      <td>06:34</td>\n",
       "    </tr>\n",
       "    <tr>\n",
       "      <td>3</td>\n",
       "      <td>0.641122</td>\n",
       "      <td>0.639110</td>\n",
       "      <td>17.267942</td>\n",
       "      <td>06:34</td>\n",
       "    </tr>\n",
       "    <tr>\n",
       "      <td>4</td>\n",
       "      <td>0.637624</td>\n",
       "      <td>0.638842</td>\n",
       "      <td>17.212130</td>\n",
       "      <td>06:33</td>\n",
       "    </tr>\n",
       "  </tbody>\n",
       "</table>"
      ],
      "text/plain": [
       "<IPython.core.display.HTML object>"
      ]
     },
     "metadata": {},
     "output_type": "display_data"
    },
    {
     "name": "stderr",
     "output_type": "stream",
     "text": [
      "/opt/conda/lib/python3.7/site-packages/torch/nn/functional.py:1805: UserWarning: nn.functional.sigmoid is deprecated. Use torch.sigmoid instead.\n",
      "  warnings.warn(\"nn.functional.sigmoid is deprecated. Use torch.sigmoid instead.\")\n"
     ]
    },
    {
     "name": "stdout",
     "output_type": "stream",
     "text": [
      "Better model found at epoch 0 with valid_loss value: 0.644946813583374.\n",
      "Better model found at epoch 1 with valid_loss value: 0.6404141187667847.\n",
      "Better model found at epoch 3 with valid_loss value: 0.6391099095344543.\n",
      "Better model found at epoch 4 with valid_loss value: 0.6388416886329651.\n"
     ]
    },
    {
     "data": {
      "text/html": [
       "\n",
       "    <div>\n",
       "        <style>\n",
       "            /* Turns off some styling */\n",
       "            progress {\n",
       "                /* gets rid of default border in Firefox and Opera. */\n",
       "                border: none;\n",
       "                /* Needs to be in here for Safari polyfill so background images work as expected. */\n",
       "                background-size: auto;\n",
       "            }\n",
       "            .progress-bar-interrupted, .progress-bar-interrupted::-webkit-progress-bar {\n",
       "                background: #F44336;\n",
       "            }\n",
       "        </style>\n",
       "      <progress value='0' class='' max='5' style='width:300px; height:20px; vertical-align: middle;'></progress>\n",
       "      \n",
       "    </div>\n",
       "    \n"
      ],
      "text/plain": [
       "<IPython.core.display.HTML object>"
      ]
     },
     "metadata": {},
     "output_type": "display_data"
    },
    {
     "data": {
      "text/html": [],
      "text/plain": [
       "<IPython.core.display.HTML object>"
      ]
     },
     "metadata": {},
     "output_type": "display_data"
    },
    {
     "name": "stdout",
     "output_type": "stream",
     "text": [
      "Fold 1 results\n"
     ]
    },
    {
     "data": {
      "text/html": [
       "<table border=\"1\" class=\"dataframe\">\n",
       "  <thead>\n",
       "    <tr style=\"text-align: left;\">\n",
       "      <th>epoch</th>\n",
       "      <th>train_loss</th>\n",
       "      <th>valid_loss</th>\n",
       "      <th>petfinder_rmse</th>\n",
       "      <th>time</th>\n",
       "    </tr>\n",
       "  </thead>\n",
       "  <tbody>\n",
       "    <tr>\n",
       "      <td>0</td>\n",
       "      <td>0.653839</td>\n",
       "      <td>0.645673</td>\n",
       "      <td>18.066792</td>\n",
       "      <td>06:33</td>\n",
       "    </tr>\n",
       "    <tr>\n",
       "      <td>1</td>\n",
       "      <td>0.648762</td>\n",
       "      <td>0.641643</td>\n",
       "      <td>17.550621</td>\n",
       "      <td>06:33</td>\n",
       "    </tr>\n",
       "    <tr>\n",
       "      <td>2</td>\n",
       "      <td>0.644179</td>\n",
       "      <td>0.640709</td>\n",
       "      <td>17.400677</td>\n",
       "      <td>06:32</td>\n",
       "    </tr>\n",
       "    <tr>\n",
       "      <td>3</td>\n",
       "      <td>0.639402</td>\n",
       "      <td>0.640700</td>\n",
       "      <td>17.393770</td>\n",
       "      <td>06:32</td>\n",
       "    </tr>\n",
       "    <tr>\n",
       "      <td>4</td>\n",
       "      <td>0.637093</td>\n",
       "      <td>0.640769</td>\n",
       "      <td>17.400715</td>\n",
       "      <td>06:33</td>\n",
       "    </tr>\n",
       "  </tbody>\n",
       "</table>"
      ],
      "text/plain": [
       "<IPython.core.display.HTML object>"
      ]
     },
     "metadata": {},
     "output_type": "display_data"
    },
    {
     "name": "stderr",
     "output_type": "stream",
     "text": [
      "/opt/conda/lib/python3.7/site-packages/torch/nn/functional.py:1805: UserWarning: nn.functional.sigmoid is deprecated. Use torch.sigmoid instead.\n",
      "  warnings.warn(\"nn.functional.sigmoid is deprecated. Use torch.sigmoid instead.\")\n"
     ]
    },
    {
     "name": "stdout",
     "output_type": "stream",
     "text": [
      "Better model found at epoch 0 with valid_loss value: 0.645672619342804.\n",
      "Better model found at epoch 1 with valid_loss value: 0.6416429281234741.\n",
      "Better model found at epoch 2 with valid_loss value: 0.6407089233398438.\n",
      "Better model found at epoch 3 with valid_loss value: 0.6406999230384827.\n"
     ]
    },
    {
     "data": {
      "text/html": [
       "\n",
       "    <div>\n",
       "        <style>\n",
       "            /* Turns off some styling */\n",
       "            progress {\n",
       "                /* gets rid of default border in Firefox and Opera. */\n",
       "                border: none;\n",
       "                /* Needs to be in here for Safari polyfill so background images work as expected. */\n",
       "                background-size: auto;\n",
       "            }\n",
       "            .progress-bar-interrupted, .progress-bar-interrupted::-webkit-progress-bar {\n",
       "                background: #F44336;\n",
       "            }\n",
       "        </style>\n",
       "      <progress value='0' class='' max='5' style='width:300px; height:20px; vertical-align: middle;'></progress>\n",
       "      \n",
       "    </div>\n",
       "    \n"
      ],
      "text/plain": [
       "<IPython.core.display.HTML object>"
      ]
     },
     "metadata": {},
     "output_type": "display_data"
    },
    {
     "data": {
      "text/html": [],
      "text/plain": [
       "<IPython.core.display.HTML object>"
      ]
     },
     "metadata": {},
     "output_type": "display_data"
    },
    {
     "name": "stdout",
     "output_type": "stream",
     "text": [
      "Fold 2 results\n"
     ]
    },
    {
     "data": {
      "text/html": [
       "<table border=\"1\" class=\"dataframe\">\n",
       "  <thead>\n",
       "    <tr style=\"text-align: left;\">\n",
       "      <th>epoch</th>\n",
       "      <th>train_loss</th>\n",
       "      <th>valid_loss</th>\n",
       "      <th>petfinder_rmse</th>\n",
       "      <th>time</th>\n",
       "    </tr>\n",
       "  </thead>\n",
       "  <tbody>\n",
       "    <tr>\n",
       "      <td>0</td>\n",
       "      <td>0.655449</td>\n",
       "      <td>0.647996</td>\n",
       "      <td>18.351480</td>\n",
       "      <td>06:33</td>\n",
       "    </tr>\n",
       "    <tr>\n",
       "      <td>1</td>\n",
       "      <td>0.645909</td>\n",
       "      <td>0.642568</td>\n",
       "      <td>17.611053</td>\n",
       "      <td>06:32</td>\n",
       "    </tr>\n",
       "    <tr>\n",
       "      <td>2</td>\n",
       "      <td>0.642583</td>\n",
       "      <td>0.642056</td>\n",
       "      <td>17.547373</td>\n",
       "      <td>06:33</td>\n",
       "    </tr>\n",
       "    <tr>\n",
       "      <td>3</td>\n",
       "      <td>0.640552</td>\n",
       "      <td>0.641400</td>\n",
       "      <td>17.464550</td>\n",
       "      <td>06:33</td>\n",
       "    </tr>\n",
       "    <tr>\n",
       "      <td>4</td>\n",
       "      <td>0.637467</td>\n",
       "      <td>0.641572</td>\n",
       "      <td>17.495155</td>\n",
       "      <td>06:34</td>\n",
       "    </tr>\n",
       "  </tbody>\n",
       "</table>"
      ],
      "text/plain": [
       "<IPython.core.display.HTML object>"
      ]
     },
     "metadata": {},
     "output_type": "display_data"
    },
    {
     "name": "stderr",
     "output_type": "stream",
     "text": [
      "/opt/conda/lib/python3.7/site-packages/torch/nn/functional.py:1805: UserWarning: nn.functional.sigmoid is deprecated. Use torch.sigmoid instead.\n",
      "  warnings.warn(\"nn.functional.sigmoid is deprecated. Use torch.sigmoid instead.\")\n"
     ]
    },
    {
     "name": "stdout",
     "output_type": "stream",
     "text": [
      "Better model found at epoch 0 with valid_loss value: 0.6479958295822144.\n",
      "Better model found at epoch 1 with valid_loss value: 0.6425684690475464.\n",
      "Better model found at epoch 2 with valid_loss value: 0.6420562267303467.\n",
      "Better model found at epoch 3 with valid_loss value: 0.6413998007774353.\n"
     ]
    },
    {
     "data": {
      "text/html": [
       "\n",
       "    <div>\n",
       "        <style>\n",
       "            /* Turns off some styling */\n",
       "            progress {\n",
       "                /* gets rid of default border in Firefox and Opera. */\n",
       "                border: none;\n",
       "                /* Needs to be in here for Safari polyfill so background images work as expected. */\n",
       "                background-size: auto;\n",
       "            }\n",
       "            .progress-bar-interrupted, .progress-bar-interrupted::-webkit-progress-bar {\n",
       "                background: #F44336;\n",
       "            }\n",
       "        </style>\n",
       "      <progress value='0' class='' max='5' style='width:300px; height:20px; vertical-align: middle;'></progress>\n",
       "      \n",
       "    </div>\n",
       "    \n"
      ],
      "text/plain": [
       "<IPython.core.display.HTML object>"
      ]
     },
     "metadata": {},
     "output_type": "display_data"
    },
    {
     "data": {
      "text/html": [],
      "text/plain": [
       "<IPython.core.display.HTML object>"
      ]
     },
     "metadata": {},
     "output_type": "display_data"
    },
    {
     "name": "stdout",
     "output_type": "stream",
     "text": [
      "Fold 3 results\n"
     ]
    },
    {
     "data": {
      "text/html": [
       "<table border=\"1\" class=\"dataframe\">\n",
       "  <thead>\n",
       "    <tr style=\"text-align: left;\">\n",
       "      <th>epoch</th>\n",
       "      <th>train_loss</th>\n",
       "      <th>valid_loss</th>\n",
       "      <th>petfinder_rmse</th>\n",
       "      <th>time</th>\n",
       "    </tr>\n",
       "  </thead>\n",
       "  <tbody>\n",
       "    <tr>\n",
       "      <td>0</td>\n",
       "      <td>0.655608</td>\n",
       "      <td>0.650980</td>\n",
       "      <td>18.583778</td>\n",
       "      <td>06:34</td>\n",
       "    </tr>\n",
       "    <tr>\n",
       "      <td>1</td>\n",
       "      <td>0.647569</td>\n",
       "      <td>0.640749</td>\n",
       "      <td>17.399002</td>\n",
       "      <td>06:34</td>\n",
       "    </tr>\n",
       "    <tr>\n",
       "      <td>2</td>\n",
       "      <td>0.642718</td>\n",
       "      <td>0.641068</td>\n",
       "      <td>17.464771</td>\n",
       "      <td>06:33</td>\n",
       "    </tr>\n",
       "    <tr>\n",
       "      <td>3</td>\n",
       "      <td>0.643873</td>\n",
       "      <td>0.640054</td>\n",
       "      <td>17.322260</td>\n",
       "      <td>06:34</td>\n",
       "    </tr>\n",
       "    <tr>\n",
       "      <td>4</td>\n",
       "      <td>0.637708</td>\n",
       "      <td>0.640148</td>\n",
       "      <td>17.316275</td>\n",
       "      <td>06:33</td>\n",
       "    </tr>\n",
       "  </tbody>\n",
       "</table>"
      ],
      "text/plain": [
       "<IPython.core.display.HTML object>"
      ]
     },
     "metadata": {},
     "output_type": "display_data"
    },
    {
     "name": "stderr",
     "output_type": "stream",
     "text": [
      "/opt/conda/lib/python3.7/site-packages/torch/nn/functional.py:1805: UserWarning: nn.functional.sigmoid is deprecated. Use torch.sigmoid instead.\n",
      "  warnings.warn(\"nn.functional.sigmoid is deprecated. Use torch.sigmoid instead.\")\n"
     ]
    },
    {
     "name": "stdout",
     "output_type": "stream",
     "text": [
      "Better model found at epoch 0 with valid_loss value: 0.6509795188903809.\n",
      "Better model found at epoch 1 with valid_loss value: 0.6407493948936462.\n",
      "Better model found at epoch 3 with valid_loss value: 0.6400535106658936.\n"
     ]
    },
    {
     "data": {
      "text/html": [
       "\n",
       "    <div>\n",
       "        <style>\n",
       "            /* Turns off some styling */\n",
       "            progress {\n",
       "                /* gets rid of default border in Firefox and Opera. */\n",
       "                border: none;\n",
       "                /* Needs to be in here for Safari polyfill so background images work as expected. */\n",
       "                background-size: auto;\n",
       "            }\n",
       "            .progress-bar-interrupted, .progress-bar-interrupted::-webkit-progress-bar {\n",
       "                background: #F44336;\n",
       "            }\n",
       "        </style>\n",
       "      <progress value='0' class='' max='5' style='width:300px; height:20px; vertical-align: middle;'></progress>\n",
       "      \n",
       "    </div>\n",
       "    \n"
      ],
      "text/plain": [
       "<IPython.core.display.HTML object>"
      ]
     },
     "metadata": {},
     "output_type": "display_data"
    },
    {
     "data": {
      "text/html": [],
      "text/plain": [
       "<IPython.core.display.HTML object>"
      ]
     },
     "metadata": {},
     "output_type": "display_data"
    },
    {
     "name": "stdout",
     "output_type": "stream",
     "text": [
      "Fold 4 results\n"
     ]
    },
    {
     "data": {
      "text/html": [
       "<table border=\"1\" class=\"dataframe\">\n",
       "  <thead>\n",
       "    <tr style=\"text-align: left;\">\n",
       "      <th>epoch</th>\n",
       "      <th>train_loss</th>\n",
       "      <th>valid_loss</th>\n",
       "      <th>petfinder_rmse</th>\n",
       "      <th>time</th>\n",
       "    </tr>\n",
       "  </thead>\n",
       "  <tbody>\n",
       "    <tr>\n",
       "      <td>0</td>\n",
       "      <td>0.655379</td>\n",
       "      <td>0.645710</td>\n",
       "      <td>18.205097</td>\n",
       "      <td>06:35</td>\n",
       "    </tr>\n",
       "    <tr>\n",
       "      <td>1</td>\n",
       "      <td>0.644670</td>\n",
       "      <td>0.644775</td>\n",
       "      <td>18.028942</td>\n",
       "      <td>06:33</td>\n",
       "    </tr>\n",
       "    <tr>\n",
       "      <td>2</td>\n",
       "      <td>0.641548</td>\n",
       "      <td>0.641019</td>\n",
       "      <td>17.573793</td>\n",
       "      <td>06:33</td>\n",
       "    </tr>\n",
       "    <tr>\n",
       "      <td>3</td>\n",
       "      <td>0.639116</td>\n",
       "      <td>0.640614</td>\n",
       "      <td>17.509281</td>\n",
       "      <td>06:34</td>\n",
       "    </tr>\n",
       "    <tr>\n",
       "      <td>4</td>\n",
       "      <td>0.634904</td>\n",
       "      <td>0.640573</td>\n",
       "      <td>17.494068</td>\n",
       "      <td>06:34</td>\n",
       "    </tr>\n",
       "  </tbody>\n",
       "</table>"
      ],
      "text/plain": [
       "<IPython.core.display.HTML object>"
      ]
     },
     "metadata": {},
     "output_type": "display_data"
    },
    {
     "name": "stderr",
     "output_type": "stream",
     "text": [
      "/opt/conda/lib/python3.7/site-packages/torch/nn/functional.py:1805: UserWarning: nn.functional.sigmoid is deprecated. Use torch.sigmoid instead.\n",
      "  warnings.warn(\"nn.functional.sigmoid is deprecated. Use torch.sigmoid instead.\")\n"
     ]
    },
    {
     "name": "stdout",
     "output_type": "stream",
     "text": [
      "Better model found at epoch 0 with valid_loss value: 0.6457101106643677.\n",
      "Better model found at epoch 1 with valid_loss value: 0.6447746753692627.\n",
      "Better model found at epoch 2 with valid_loss value: 0.6410188674926758.\n",
      "Better model found at epoch 3 with valid_loss value: 0.64061439037323.\n",
      "Better model found at epoch 4 with valid_loss value: 0.6405728459358215.\n"
     ]
    },
    {
     "data": {
      "text/html": [
       "\n",
       "    <div>\n",
       "        <style>\n",
       "            /* Turns off some styling */\n",
       "            progress {\n",
       "                /* gets rid of default border in Firefox and Opera. */\n",
       "                border: none;\n",
       "                /* Needs to be in here for Safari polyfill so background images work as expected. */\n",
       "                background-size: auto;\n",
       "            }\n",
       "            .progress-bar-interrupted, .progress-bar-interrupted::-webkit-progress-bar {\n",
       "                background: #F44336;\n",
       "            }\n",
       "        </style>\n",
       "      <progress value='0' class='' max='5' style='width:300px; height:20px; vertical-align: middle;'></progress>\n",
       "      \n",
       "    </div>\n",
       "    \n"
      ],
      "text/plain": [
       "<IPython.core.display.HTML object>"
      ]
     },
     "metadata": {},
     "output_type": "display_data"
    },
    {
     "data": {
      "text/html": [],
      "text/plain": [
       "<IPython.core.display.HTML object>"
      ]
     },
     "metadata": {},
     "output_type": "display_data"
    },
    {
     "data": {
      "image/png": "[encoded data removed]",
      "text/plain": [
       "<Figure size 432x288 with 1 Axes>"
      ]
     },
     "metadata": {
      "needs_background": "light"
     },
     "output_type": "display_data"
    }
   ],
   "source": [
    "all_preds = []\n",
    "\n",
    "for i in range(N_FOLDS):\n",
    "\n",
    "    print(f'Fold {i} results')\n",
    "    \n",
    "    learn = get_learner(fold_num=i)\n",
    "\n",
    "    learn.fit_one_cycle(5, 2e-5, cbs=[SaveModelCallback(), \n",
    "                                      EarlyStoppingCallback(monitor='petfinder_rmse', comp=np.less, patience=2),\n",
    "                                      MixUp(0.2)]) \n",
    "    \n",
    "    learn.recorder.plot_loss()\n",
    "\n",
    "    #learn = learn.to_fp32()\n",
    "    \n",
    "    learn.export(f'model_fold_{i}.pkl')\n",
    "    learn.save(f'model_fold_{i}.pkl')\n",
    "    \n",
    "    dls = ImageDataLoaders.from_df(train_df, #pass in train DataFrame\n",
    "                               valid_pct=0.2, #80-20 train-validation random split\n",
    "                               seed=999, #seed\n",
    "                               fn_col='path', #filename/path is in the second column of the DataFrame\n",
    "                               label_col='norm_score', #label is in the first column of the DataFrame\n",
    "                               y_block=RegressionBlock, #The type of target\n",
    "                               bs=BATCH_SIZE, #pass in batch size\n",
    "                               num_workers=8,\n",
    "                               item_tfms=Resize(224), #pass in item_tfms\n",
    "                               batch_tfms=setup_aug_tfms([DeterministicFlip(),\n",
    "#                                                           Brightness(),Contrast(),\n",
    "#                                                           Hue(),Saturation()\n",
    "                                                          RandomErasing(p=.5, max_count=5, min_aspect=0.5, sl=0.0, sh=0.3)\n",
    "#                                                           RandomResizedCrop(224, min_scale=0.1, max_scale=0.8, ratio=(0.75, 1.3333))\n",
    "                                                         ])) # validation augmentation?\n",
    "    \n",
    "    test_dl = dls.test_dl(test_df)\n",
    "    \n",
    "    preds, _ = learn.tta(dl=test_dl, n=5, beta=0)\n",
    "    \n",
    "    all_preds.append(preds)\n",
    "    \n",
    "    del learn\n",
    "\n",
    "    torch.cuda.empty_cache()\n",
    "\n",
    "    gc.collect()"
   ]
  },
  {
   "cell_type": "code",
   "execution_count": 24,
   "id": "89cae234",
   "metadata": {
    "execution": {
     "iopub.execute_input": "2021-12-29T05:06:19.305657Z",
     "iopub.status.busy": "2021-12-29T05:06:19.304733Z",
     "iopub.status.idle": "2021-12-29T05:06:19.307278Z",
     "shell.execute_reply": "2021-12-29T05:06:19.306871Z",
     "shell.execute_reply.started": "2021-11-04T05:11:03.070265Z"
    },
    "papermill": {
     "duration": 0.071356,
     "end_time": "2021-12-29T05:06:19.307398",
     "exception": false,
     "start_time": "2021-12-29T05:06:19.236042",
     "status": "completed"
    },
    "tags": []
   },
   "outputs": [],
   "source": [
    "# all_preds"
   ]
  },
  {
   "cell_type": "code",
   "execution_count": 25,
   "id": "d9a7915f",
   "metadata": {
    "execution": {
     "iopub.execute_input": "2021-12-29T05:06:21.147826Z",
     "iopub.status.busy": "2021-12-29T05:06:21.147150Z",
     "iopub.status.idle": "2021-12-29T05:06:21.152911Z",
     "shell.execute_reply": "2021-12-29T05:06:21.153326Z",
     "shell.execute_reply.started": "2021-11-10T13:47:29.702039Z"
    },
    "papermill": {
     "duration": 0.634164,
     "end_time": "2021-12-29T05:06:21.153465",
     "exception": false,
     "start_time": "2021-12-29T05:06:20.519301",
     "status": "completed"
    },
    "tags": []
   },
   "outputs": [
    {
     "data": {
      "text/plain": [
       "0.3978609"
      ]
     },
     "execution_count": 25,
     "metadata": {},
     "output_type": "execute_result"
    }
   ],
   "source": [
    "np.mean(np.stack(all_preds*100))"
   ]
  },
  {
   "cell_type": "code",
   "execution_count": 26,
   "id": "5b4d84a5",
   "metadata": {
    "execution": {
     "iopub.execute_input": "2021-12-29T05:06:21.266718Z",
     "iopub.status.busy": "2021-12-29T05:06:21.266156Z",
     "iopub.status.idle": "2021-12-29T05:06:21.286768Z",
     "shell.execute_reply": "2021-12-29T05:06:21.286267Z",
     "shell.execute_reply.started": "2021-11-10T13:47:35.736211Z"
    },
    "papermill": {
     "duration": 0.080358,
     "end_time": "2021-12-29T05:06:21.286904",
     "exception": false,
     "start_time": "2021-12-29T05:06:21.206546",
     "status": "completed"
    },
    "tags": []
   },
   "outputs": [],
   "source": [
    "sample_df = pd.read_csv(dataset_path/'sample_submission.csv')\n",
    "preds = np.mean(np.stack(all_preds), axis=0)\n",
    "sample_df['Pawpularity'] = preds*100\n",
    "sample_df.to_csv('submission.csv',index=False)"
   ]
  },
  {
   "cell_type": "code",
   "execution_count": 27,
   "id": "00376302",
   "metadata": {
    "execution": {
     "iopub.execute_input": "2021-12-29T05:06:21.397537Z",
     "iopub.status.busy": "2021-12-29T05:06:21.396511Z",
     "iopub.status.idle": "2021-12-29T05:06:21.407668Z",
     "shell.execute_reply": "2021-12-29T05:06:21.408114Z",
     "shell.execute_reply.started": "2021-11-10T13:47:37.803125Z"
    },
    "papermill": {
     "duration": 0.067274,
     "end_time": "2021-12-29T05:06:21.408310",
     "exception": false,
     "start_time": "2021-12-29T05:06:21.341036",
     "status": "completed"
    },
    "tags": []
   },
   "outputs": [
    {
     "data": {
      "text/html": [
       "<div>\n",
       "<style scoped>\n",
       "    .dataframe tbody tr th:only-of-type {\n",
       "        vertical-align: middle;\n",
       "    }\n",
       "\n",
       "    .dataframe tbody tr th {\n",
       "        vertical-align: top;\n",
       "    }\n",
       "\n",
       "    .dataframe thead th {\n",
       "        text-align: right;\n",
       "    }\n",
       "</style>\n",
       "<table border=\"1\" class=\"dataframe\">\n",
       "  <thead>\n",
       "    <tr style=\"text-align: right;\">\n",
       "      <th></th>\n",
       "      <th>Id</th>\n",
       "      <th>Pawpularity</th>\n",
       "    </tr>\n",
       "  </thead>\n",
       "  <tbody>\n",
       "    <tr>\n",
       "      <th>0</th>\n",
       "      <td>4128bae22183829d2b5fea10effdb0c3</td>\n",
       "      <td>39.265060</td>\n",
       "    </tr>\n",
       "    <tr>\n",
       "      <th>1</th>\n",
       "      <td>43a2262d7738e3d420d453815151079e</td>\n",
       "      <td>40.195004</td>\n",
       "    </tr>\n",
       "    <tr>\n",
       "      <th>2</th>\n",
       "      <td>4e429cead1848a298432a0acad014c9d</td>\n",
       "      <td>39.776222</td>\n",
       "    </tr>\n",
       "    <tr>\n",
       "      <th>3</th>\n",
       "      <td>80bc3ccafcc51b66303c2c263aa38486</td>\n",
       "      <td>40.053550</td>\n",
       "    </tr>\n",
       "    <tr>\n",
       "      <th>4</th>\n",
       "      <td>8f49844c382931444e68dffbe20228f4</td>\n",
       "      <td>40.133800</td>\n",
       "    </tr>\n",
       "  </tbody>\n",
       "</table>\n",
       "</div>"
      ],
      "text/plain": [
       "                                 Id  Pawpularity\n",
       "0  4128bae22183829d2b5fea10effdb0c3    39.265060\n",
       "1  43a2262d7738e3d420d453815151079e    40.195004\n",
       "2  4e429cead1848a298432a0acad014c9d    39.776222\n",
       "3  80bc3ccafcc51b66303c2c263aa38486    40.053550\n",
       "4  8f49844c382931444e68dffbe20228f4    40.133800"
      ]
     },
     "execution_count": 27,
     "metadata": {},
     "output_type": "execute_result"
    }
   ],
   "source": [
    "pd.read_csv('submission.csv').head()"
   ]
  },
  {
   "cell_type": "code",
   "execution_count": 28,
   "id": "dea5c505",
   "metadata": {
    "execution": {
     "iopub.execute_input": "2021-12-29T05:06:21.564452Z",
     "iopub.status.busy": "2021-12-29T05:06:21.563582Z",
     "iopub.status.idle": "2021-12-29T05:06:21.565843Z",
     "shell.execute_reply": "2021-12-29T05:06:21.565291Z"
    },
    "papermill": {
     "duration": 0.098971,
     "end_time": "2021-12-29T05:06:21.565960",
     "exception": false,
     "start_time": "2021-12-29T05:06:21.466989",
     "status": "completed"
    },
    "tags": []
   },
   "outputs": [],
   "source": [
    "#path = './models'\n",
    "#learn1 = load_learner('model_fold_2.pkl')"
   ]
  },
  {
   "cell_type": "markdown",
   "id": "1c3118a2",
   "metadata": {
    "papermill": {
     "duration": 0.051997,
     "end_time": "2021-12-29T05:06:21.671847",
     "exception": false,
     "start_time": "2021-12-29T05:06:21.619850",
     "status": "completed"
    },
    "tags": []
   },
   "source": [
    "# Model training\n",
    "\n",
    "Let's train a Swin Transformer model as a baseline. We will use the wonderful timm package by Ross Wightman to define the model. Since this competition doesn't allow internet access, I have added the pretrained weights from timm as a dataset, and the below code cell will allow timm to find the file:"
   ]
  },
  {
   "cell_type": "markdown",
   "id": "520da383",
   "metadata": {
    "papermill": {
     "duration": 0.052554,
     "end_time": "2021-12-29T05:06:21.776682",
     "exception": false,
     "start_time": "2021-12-29T05:06:21.724128",
     "status": "completed"
    },
    "tags": []
   },
   "source": [
    "Let's now define the model."
   ]
  },
  {
   "cell_type": "markdown",
   "id": "d56a7b1d",
   "metadata": {
    "papermill": {
     "duration": 0.050735,
     "end_time": "2021-12-29T05:06:21.876930",
     "exception": false,
     "start_time": "2021-12-29T05:06:21.826195",
     "status": "completed"
    },
    "tags": []
   },
   "source": [
    "Let's also define the metric we will use. Note that we multiply by 100 to get a relevant RMSE for Pawpularity Score prediction, not prediction of the normalized score."
   ]
  },
  {
   "cell_type": "markdown",
   "id": "2ba353aa",
   "metadata": {
    "papermill": {
     "duration": 0.050728,
     "end_time": "2021-12-29T05:06:21.979606",
     "exception": false,
     "start_time": "2021-12-29T05:06:21.928878",
     "status": "completed"
    },
    "tags": []
   },
   "source": [
    "In fastai, the trainer class is the `Learner`, which takes in the data, model, optimizer, loss function, etc. and allows you to train models, make predictions, etc. Let's define the `Learner` for this task, and also use mixed precision. Note that we use `BCEWithLogitsLoss` to treat this as a classification problem."
   ]
  },
  {
   "cell_type": "markdown",
   "id": "cc7188ff",
   "metadata": {
    "papermill": {
     "duration": 0.051661,
     "end_time": "2021-12-29T05:06:22.083606",
     "exception": false,
     "start_time": "2021-12-29T05:06:22.031945",
     "status": "completed"
    },
    "tags": []
   },
   "source": [
    "We are now provided with a Learner object. In order to train a model, we need to find the most optimal learning rate, which can be done with fastai's learning rate finder:"
   ]
  },
  {
   "cell_type": "markdown",
   "id": "43c58747",
   "metadata": {
    "papermill": {
     "duration": 0.052081,
     "end_time": "2021-12-29T05:06:22.190443",
     "exception": false,
     "start_time": "2021-12-29T05:06:22.138362",
     "status": "completed"
    },
    "tags": []
   },
   "source": [
    "lrは上記のコードから提案された値に変更する\n",
    "\n",
    "Let's now fine-tune the model with the desired learning rate of 2e-5. We'll save the best model and use the early stopping callback."
   ]
  },
  {
   "cell_type": "markdown",
   "id": "40d839fd",
   "metadata": {
    "papermill": {
     "duration": 0.052071,
     "end_time": "2021-12-29T05:06:22.296161",
     "exception": false,
     "start_time": "2021-12-29T05:06:22.244090",
     "status": "completed"
    },
    "tags": []
   },
   "source": [
    "We plotted the loss, put the model back to fp32, and now we can export the model if we want to use later (i.e. for an inference kernel):"
   ]
  },
  {
   "cell_type": "markdown",
   "id": "a9ed2ba5",
   "metadata": {
    "papermill": {
     "duration": 0.051175,
     "end_time": "2021-12-29T05:06:22.398790",
     "exception": false,
     "start_time": "2021-12-29T05:06:22.347615",
     "status": "completed"
    },
    "tags": []
   },
   "source": [
    "## Inference\n",
    "\n",
    "It's very simple to perform inference with fastai. We preprocess the test CSV in the same way as the train CSV, and the `dls.test_dl` function allows you to create test dataloader using the same pipeline we defined earlier."
   ]
  },
  {
   "cell_type": "code",
   "execution_count": 29,
   "id": "71ebb660",
   "metadata": {
    "execution": {
     "iopub.execute_input": "2021-12-29T05:06:22.505378Z",
     "iopub.status.busy": "2021-12-29T05:06:22.504471Z",
     "iopub.status.idle": "2021-12-29T05:06:22.507020Z",
     "shell.execute_reply": "2021-12-29T05:06:22.506568Z"
    },
    "papermill": {
     "duration": 0.057338,
     "end_time": "2021-12-29T05:06:22.507134",
     "exception": false,
     "start_time": "2021-12-29T05:06:22.449796",
     "status": "completed"
    },
    "tags": []
   },
   "outputs": [],
   "source": [
    "# test_df = pd.read_csv(dataset_path/'test.csv')\n",
    "# test_df.head()"
   ]
  },
  {
   "cell_type": "code",
   "execution_count": 30,
   "id": "9655c999",
   "metadata": {
    "execution": {
     "iopub.execute_input": "2021-12-29T05:06:22.615937Z",
     "iopub.status.busy": "2021-12-29T05:06:22.614304Z",
     "iopub.status.idle": "2021-12-29T05:06:22.616501Z",
     "shell.execute_reply": "2021-12-29T05:06:22.616953Z"
    },
    "papermill": {
     "duration": 0.05786,
     "end_time": "2021-12-29T05:06:22.617088",
     "exception": false,
     "start_time": "2021-12-29T05:06:22.559228",
     "status": "completed"
    },
    "tags": []
   },
   "outputs": [],
   "source": [
    "# test_df['Pawpularity'] = [1]*len(test_df)\n",
    "# test_df['path'] = test_df['Id'].map(lambda x:str(dataset_path/'test'/x)+'.jpg')\n",
    "# test_df = test_df.drop(columns=['Id'])\n",
    "# train_df['norm_score'] = train_df['Pawpularity']/100"
   ]
  },
  {
   "cell_type": "code",
   "execution_count": 31,
   "id": "58b92b88",
   "metadata": {
    "execution": {
     "iopub.execute_input": "2021-12-29T05:06:22.728298Z",
     "iopub.status.busy": "2021-12-29T05:06:22.727754Z",
     "iopub.status.idle": "2021-12-29T05:06:22.731343Z",
     "shell.execute_reply": "2021-12-29T05:06:22.730918Z"
    },
    "papermill": {
     "duration": 0.061488,
     "end_time": "2021-12-29T05:06:22.731459",
     "exception": false,
     "start_time": "2021-12-29T05:06:22.669971",
     "status": "completed"
    },
    "tags": []
   },
   "outputs": [],
   "source": [
    "# dls = ImageDataLoaders.from_df(train_df, #pass in train DataFrame\n",
    "#                                valid_pct=0.2, #80-20 train-validation random split\n",
    "#                                seed=999, #seed\n",
    "#                                fn_col='path', #filename/path is in the second column of the DataFrame\n",
    "#                                label_col='norm_score', #label is in the first column of the DataFrame\n",
    "#                                y_block=RegressionBlock, #The type of target\n",
    "#                                bs=32, #pass in batch size\n",
    "#                                num_workers=8,\n",
    "#                                item_tfms=Resize(224), #pass in item_tfms\n",
    "#                                batch_tfms=setup_aug_tfms([Brightness(), Contrast(), Hue(), Saturation()])) \n",
    "# test_dl = dls.test_dl(test_df)"
   ]
  },
  {
   "cell_type": "code",
   "execution_count": 32,
   "id": "90091848",
   "metadata": {
    "execution": {
     "iopub.execute_input": "2021-12-29T05:06:22.843596Z",
     "iopub.status.busy": "2021-12-29T05:06:22.842974Z",
     "iopub.status.idle": "2021-12-29T05:06:22.846009Z",
     "shell.execute_reply": "2021-12-29T05:06:22.845501Z"
    },
    "papermill": {
     "duration": 0.060458,
     "end_time": "2021-12-29T05:06:22.846127",
     "exception": false,
     "start_time": "2021-12-29T05:06:22.785669",
     "status": "completed"
    },
    "tags": []
   },
   "outputs": [],
   "source": [
    "# test_dl.show_batch()"
   ]
  },
  {
   "cell_type": "markdown",
   "id": "6cda7816",
   "metadata": {
    "papermill": {
     "duration": 0.054676,
     "end_time": "2021-12-29T05:06:22.954584",
     "exception": false,
     "start_time": "2021-12-29T05:06:22.899908",
     "status": "completed"
    },
    "tags": []
   },
   "source": [
    "We can easily confirm that the test_dl is correct (the example test images provided are just noise so this is expected):"
   ]
  },
  {
   "cell_type": "markdown",
   "id": "376e5038",
   "metadata": {
    "execution": {
     "iopub.execute_input": "2021-10-11T01:23:46.803705Z",
     "iopub.status.busy": "2021-10-11T01:23:46.803428Z",
     "iopub.status.idle": "2021-10-11T01:24:17.582722Z",
     "shell.execute_reply": "2021-10-11T01:24:17.581988Z",
     "shell.execute_reply.started": "2021-10-11T01:23:46.803676Z"
    },
    "papermill": {
     "duration": 0.053745,
     "end_time": "2021-12-29T05:06:23.063238",
     "exception": false,
     "start_time": "2021-12-29T05:06:23.009493",
     "status": "completed"
    },
    "tags": []
   },
   "source": [
    "Now let's pass the dataloader to the model and get predictions. Here I am using 5x test-time augmentation which further improves model performance."
   ]
  },
  {
   "cell_type": "code",
   "execution_count": 33,
   "id": "57e6ef42",
   "metadata": {
    "execution": {
     "iopub.execute_input": "2021-12-29T05:06:23.176975Z",
     "iopub.status.busy": "2021-12-29T05:06:23.176192Z",
     "iopub.status.idle": "2021-12-29T05:06:23.178944Z",
     "shell.execute_reply": "2021-12-29T05:06:23.178406Z"
    },
    "papermill": {
     "duration": 0.061198,
     "end_time": "2021-12-29T05:06:23.179067",
     "exception": false,
     "start_time": "2021-12-29T05:06:23.117869",
     "status": "completed"
    },
    "tags": []
   },
   "outputs": [],
   "source": [
    "#preds, _ = learn1.tta(dl=test_dl, n=5, beta=0)"
   ]
  },
  {
   "cell_type": "markdown",
   "id": "76b275ae",
   "metadata": {
    "papermill": {
     "duration": 0.052636,
     "end_time": "2021-12-29T05:06:23.284466",
     "exception": false,
     "start_time": "2021-12-29T05:06:23.231830",
     "status": "completed"
    },
    "tags": []
   },
   "source": [
    "Let's make a submission with these predictions!"
   ]
  },
  {
   "cell_type": "code",
   "execution_count": null,
   "id": "ed63185d",
   "metadata": {
    "papermill": {
     "duration": 0.053028,
     "end_time": "2021-12-29T05:06:23.391471",
     "exception": false,
     "start_time": "2021-12-29T05:06:23.338443",
     "status": "completed"
    },
    "tags": []
   },
   "outputs": [],
   "source": []
  },
  {
   "cell_type": "code",
   "execution_count": 34,
   "id": "bbdefd63",
   "metadata": {
    "execution": {
     "iopub.execute_input": "2021-12-29T05:06:23.501622Z",
     "iopub.status.busy": "2021-12-29T05:06:23.500750Z",
     "iopub.status.idle": "2021-12-29T05:06:23.502984Z",
     "shell.execute_reply": "2021-12-29T05:06:23.502462Z"
    },
    "papermill": {
     "duration": 0.058649,
     "end_time": "2021-12-29T05:06:23.503093",
     "exception": false,
     "start_time": "2021-12-29T05:06:23.444444",
     "status": "completed"
    },
    "tags": []
   },
   "outputs": [],
   "source": [
    "# sample_df = pd.read_csv(dataset_path/'sample_submission.csv')\n",
    "# sample_df['Pawpularity'] = preds.float().numpy()*100\n",
    "# sample_df.to_csv('submission.csv',index=False)"
   ]
  },
  {
   "cell_type": "code",
   "execution_count": 35,
   "id": "2bac8bc5",
   "metadata": {
    "execution": {
     "iopub.execute_input": "2021-12-29T05:06:23.611919Z",
     "iopub.status.busy": "2021-12-29T05:06:23.611022Z",
     "iopub.status.idle": "2021-12-29T05:06:23.613393Z",
     "shell.execute_reply": "2021-12-29T05:06:23.612931Z"
    },
    "papermill": {
     "duration": 0.058394,
     "end_time": "2021-12-29T05:06:23.613507",
     "exception": false,
     "start_time": "2021-12-29T05:06:23.555113",
     "status": "completed"
    },
    "tags": []
   },
   "outputs": [],
   "source": [
    "#pd.read_csv('submission.csv').head()"
   ]
  },
  {
   "cell_type": "markdown",
   "id": "3bc42210",
   "metadata": {
    "papermill": {
     "duration": 0.052136,
     "end_time": "2021-12-29T05:06:23.717397",
     "exception": false,
     "start_time": "2021-12-29T05:06:23.665261",
     "status": "completed"
    },
    "tags": []
   },
   "source": [
    "Now, **WE ARE DONE!**\n",
    "\n",
    "If you enjoyed this notebook, please give it an upvote. \n",
    "\n",
    "Stay tuned for improvements to this notebook, potentially including a version that uses the metadata as well.\n",
    "\n",
    "If you have any questions or suggestions, please leave a comment!"
   ]
  }
 ],
 "metadata": {
  "kernelspec": {
   "display_name": "Python 3",
   "language": "python",
   "name": "python3"
  },
  "language_info": {
   "codemirror_mode": {
    "name": "ipython",
    "version": 3
   },
   "file_extension": ".py",
   "mimetype": "text/x-python",
   "name": "python",
   "nbconvert_exporter": "python",
   "pygments_lexer": "ipython3",
   "version": "3.7.10"
  },
  "papermill": {
   "default_parameters": {},
   "duration": 10203.072306,
   "end_time": "2021-12-29T05:06:26.739664",
   "environment_variables": {},
   "exception": null,
   "input_path": "__notebook__.ipynb",
   "output_path": "__notebook__.ipynb",
   "parameters": {},
   "start_time": "2021-12-29T02:16:23.667358",
   "version": "2.3.3"
  }
 },
 "nbformat": 4,
 "nbformat_minor": 5
}
